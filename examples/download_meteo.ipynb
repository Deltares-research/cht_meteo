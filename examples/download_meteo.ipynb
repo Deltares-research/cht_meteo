{
 "cells": [
  {
   "cell_type": "markdown",
   "metadata": {},
   "source": [
    "# Download Meteo Data\n",
    "This notebook demonstrates how to download meteorological data using the `cht_meteo` library."
   ]
  },
  {
   "cell_type": "code",
   "execution_count": null,
   "metadata": {},
   "outputs": [],
   "source": [
    "import os\n",
    "from datetime import datetime\n",
    "import shutil\n",
    "import tempfile\n",
    "import cht_meteo as meteo\n",
    "from pathlib import Path\n",
    "import numpy as np"
   ]
  },
  {
   "cell_type": "markdown",
   "metadata": {},
   "source": [
    "## Set up the temporary directory\n",
    "Create a temporary directory to store the downloaded data. If the directory already exists, remove it and create a new one."
   ]
  },
  {
   "cell_type": "code",
   "execution_count": null,
   "metadata": {},
   "outputs": [],
   "source": [
    "meteo_path = Path(tempfile.gettempdir()) / \"cht_meteo_data\"\n",
    "if meteo_path.exists():\n",
    "    shutil.rmtree(meteo_path)\n",
    "meteo_path.mkdir(parents=True)"
   ]
  },
  {
   "cell_type": "markdown",
   "metadata": {},
   "source": [
    "## Define parameters\n",
    "Set the time range, longitude range, latitude range, and storm number for the data to be downloaded."
   ]
  },
  {
   "cell_type": "code",
   "execution_count": null,
   "metadata": {},
   "outputs": [],
   "source": [
    "time_range = (datetime(2024, 9, 26, 0, 0, 0), datetime(2024, 9, 26, 6, 0, 0)) \n",
    "lon_range = (-80.0, -70.0)\n",
    "lat_range = (30.0, 40.0)\n",
    "storm_number = \"10L\""
   ]
  },
  {
   "cell_type": "markdown",
   "metadata": {},
   "source": [
    "## Create GFS dataset\n",
    "Create a GFS dataset with the specified parameters."
   ]
  },
  {
   "cell_type": "code",
   "execution_count": null,
   "metadata": {},
   "outputs": [],
   "source": [
    "gfs_anl = meteo.dataset(name=\"gfs_anl_0p50_atlantic\",\n",
    "                        source=\"gfs_analysis_0p50\",                      \n",
    "                        path=os.path.join(meteo_path, \"gfs_anl_0p50_atlantic\"),\n",
    "                        lon_range=lon_range,\n",
    "                        lat_range=lat_range,)"
   ]
  },
  {
   "cell_type": "markdown",
   "metadata": {},
   "source": [
    "## Download and collect GFS data\n",
    "Download the GFS data for the specified time range and collect it."
   ]
  },
  {
   "cell_type": "code",
   "execution_count": null,
   "metadata": {},
   "outputs": [],
   "source": [
    "gfs_anl.download(time_range)\n",
    "gfs_anl.collect(time_range)"
   ]
  },
  {
   "cell_type": "markdown",
   "metadata": {},
   "source": [
    "Make a map plot of the barometric pressure for the first time step."
   ]
  },
  {
   "cell_type": "code",
   "execution_count": null,
   "metadata": {},
   "outputs": [],
   "source": [
    "gfs_anl.ds.barometric_pressure.isel(time=0).plot()"
   ]
  },
  {
   "cell_type": "markdown",
   "metadata": {},
   "source": [
    "## Create COAMPS-TC dataset\n",
    "Create a COAMPS-TC dataset with the specified parameters."
   ]
  },
  {
   "cell_type": "code",
   "execution_count": null,
   "metadata": {},
   "outputs": [],
   "source": [
    "ctc = meteo.dataset(name=\"coamps_tc_forecast_atlantic\",\n",
    "                    source=\"coamps_tc_forecast_s3\",\n",
    "                    path=os.path.join(meteo_path, \"coamps_tc_forecast_atlantic\"),\n",
    "                    lon_range=lon_range,\n",
    "                    lat_range=lat_range,)"
   ]
  },
  {
   "cell_type": "markdown",
   "metadata": {},
   "source": [
    "## Download and collect COAMPS-TC data\n",
    "Download the COAMPS-TC data for the specified time range and storm number, then collect it."
   ]
  },
  {
   "cell_type": "code",
   "execution_count": null,
   "metadata": {},
   "outputs": [],
   "source": [
    "ctc.download(time_range, storm_number=storm_number)\n",
    "ctc.collect(time_range)"
   ]
  },
  {
   "cell_type": "markdown",
   "metadata": {},
   "source": [
    "## Interpolate COAMPS-TC data\n",
    "Interpolate the COAMPS-TC data onto a fixed grid."
   ]
  },
  {
   "cell_type": "code",
   "execution_count": null,
   "metadata": {},
   "outputs": [],
   "source": [
    "ctcf = ctc.cut_out(x_range=lon_range,\n",
    "                   y_range=lat_range,\n",
    "                   dx=0.1, dy=0.1,)"
   ]
  },
  {
   "cell_type": "markdown",
   "metadata": {},
   "source": [
    "Make a map plot of the barometric pressure for the first time step."
   ]
  },
  {
   "cell_type": "code",
   "execution_count": null,
   "metadata": {},
   "outputs": [],
   "source": [
    "ctcf.ds.barometric_pressure.isel(time=0).plot()"
   ]
  },
  {
   "cell_type": "markdown",
   "metadata": {},
   "source": [
    "Let's delete a part of the data to test the merge function."
   ]
  },
  {
   "cell_type": "code",
   "execution_count": null,
   "metadata": {},
   "outputs": [],
   "source": [
    "ctcf.ds = ctcf.ds.where(ctcf.ds[\"lat\"] < 36, np.nan)\n",
    "ctcf.ds.barometric_pressure.isel(time=0).plot()"
   ]
  },
  {
   "cell_type": "markdown",
   "metadata": {},
   "source": [
    "## Merge datasets\n",
    "Fill gaps in the COAMPS-TC data with GFS data."
   ]
  },
  {
   "cell_type": "code",
   "execution_count": null,
   "metadata": {},
   "outputs": [],
   "source": [
    "ctcf.merge_datasets([gfs_anl])\n",
    "ctcf.ds.barometric_pressure.isel(time=0).plot()"
   ]
  },
  {
   "cell_type": "markdown",
   "metadata": {},
   "source": [
    "## Save data\n",
    "Write the interpolated COAMPS-TC data to NetCDF and Delft3D formats."
   ]
  },
  {
   "cell_type": "code",
   "execution_count": null,
   "metadata": {},
   "outputs": [],
   "source": [
    "ctcf.to_netcdf(file_name=str(meteo_path / \"coamps_tc_forecast_atlantic.nc\"))\n",
    "ctcf.to_delft3d(file_name=str(meteo_path / \"coamps_tc_forecast_atlantic\"))"
   ]
  },
  {
   "cell_type": "code",
   "execution_count": null,
   "metadata": {},
   "outputs": [],
   "source": [
    "# Get a list of all files in the directory, excluding directories\n",
    "all_files = [f for f in meteo_path.glob(\"*\") if f.is_file()]\n",
    "\n",
    "# Print the list of files\n",
    "for file in all_files:\n",
    "    print(file)"
   ]
  }
 ],
 "metadata": {
  "kernelspec": {
   "display_name": "cht_meteo",
   "language": "python",
   "name": "python3"
  },
  "language_info": {
   "codemirror_mode": {
    "name": "ipython",
    "version": 3
   },
   "file_extension": ".py",
   "mimetype": "text/x-python",
   "name": "python",
   "nbconvert_exporter": "python",
   "pygments_lexer": "ipython3",
   "version": "3.10.16"
  }
 },
 "nbformat": 4,
 "nbformat_minor": 4
}
